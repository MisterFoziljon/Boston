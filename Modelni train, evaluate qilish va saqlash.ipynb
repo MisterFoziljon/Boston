{
 "cells": [
  {
   "cell_type": "code",
   "execution_count": 1,
   "id": "7731c8d7",
   "metadata": {},
   "outputs": [],
   "source": [
    "import tensorflow\n",
    "import pandas as pd\n",
    "from tensorflow import keras\n",
    "from tensorflow.keras import layers\n",
    "from Standard_Scaler import StandardScaler"
   ]
  },
  {
   "cell_type": "code",
   "execution_count": 2,
   "id": "4d2aaf6e",
   "metadata": {},
   "outputs": [
    {
     "data": {
      "text/html": [
       "<div>\n",
       "<style scoped>\n",
       "    .dataframe tbody tr th:only-of-type {\n",
       "        vertical-align: middle;\n",
       "    }\n",
       "\n",
       "    .dataframe tbody tr th {\n",
       "        vertical-align: top;\n",
       "    }\n",
       "\n",
       "    .dataframe thead th {\n",
       "        text-align: right;\n",
       "    }\n",
       "</style>\n",
       "<table border=\"1\" class=\"dataframe\">\n",
       "  <thead>\n",
       "    <tr style=\"text-align: right;\">\n",
       "      <th></th>\n",
       "      <th>CRIM</th>\n",
       "      <th>ZN</th>\n",
       "      <th>INDUS</th>\n",
       "      <th>CHAS</th>\n",
       "      <th>NOX</th>\n",
       "      <th>RM</th>\n",
       "      <th>AGE</th>\n",
       "      <th>DIS</th>\n",
       "      <th>RAD</th>\n",
       "      <th>TAX</th>\n",
       "      <th>PTRATIO</th>\n",
       "      <th>B</th>\n",
       "      <th>LSTAT</th>\n",
       "      <th>MEDV</th>\n",
       "    </tr>\n",
       "  </thead>\n",
       "  <tbody>\n",
       "    <tr>\n",
       "      <th>0</th>\n",
       "      <td>1.23247</td>\n",
       "      <td>0.0</td>\n",
       "      <td>8.14</td>\n",
       "      <td>0.0</td>\n",
       "      <td>0.538</td>\n",
       "      <td>6.142</td>\n",
       "      <td>91.7</td>\n",
       "      <td>3.9769</td>\n",
       "      <td>4.0</td>\n",
       "      <td>307.0</td>\n",
       "      <td>21.0</td>\n",
       "      <td>396.90</td>\n",
       "      <td>18.72</td>\n",
       "      <td>15.2</td>\n",
       "    </tr>\n",
       "    <tr>\n",
       "      <th>1</th>\n",
       "      <td>0.02177</td>\n",
       "      <td>82.5</td>\n",
       "      <td>2.03</td>\n",
       "      <td>0.0</td>\n",
       "      <td>0.415</td>\n",
       "      <td>7.610</td>\n",
       "      <td>15.7</td>\n",
       "      <td>6.2700</td>\n",
       "      <td>2.0</td>\n",
       "      <td>348.0</td>\n",
       "      <td>14.7</td>\n",
       "      <td>395.38</td>\n",
       "      <td>3.11</td>\n",
       "      <td>42.3</td>\n",
       "    </tr>\n",
       "    <tr>\n",
       "      <th>2</th>\n",
       "      <td>4.89822</td>\n",
       "      <td>0.0</td>\n",
       "      <td>18.10</td>\n",
       "      <td>0.0</td>\n",
       "      <td>0.631</td>\n",
       "      <td>4.970</td>\n",
       "      <td>100.0</td>\n",
       "      <td>1.3325</td>\n",
       "      <td>24.0</td>\n",
       "      <td>666.0</td>\n",
       "      <td>20.2</td>\n",
       "      <td>375.52</td>\n",
       "      <td>3.26</td>\n",
       "      <td>50.0</td>\n",
       "    </tr>\n",
       "    <tr>\n",
       "      <th>3</th>\n",
       "      <td>0.03961</td>\n",
       "      <td>0.0</td>\n",
       "      <td>5.19</td>\n",
       "      <td>0.0</td>\n",
       "      <td>0.515</td>\n",
       "      <td>6.037</td>\n",
       "      <td>34.5</td>\n",
       "      <td>5.9853</td>\n",
       "      <td>5.0</td>\n",
       "      <td>224.0</td>\n",
       "      <td>20.2</td>\n",
       "      <td>396.90</td>\n",
       "      <td>8.01</td>\n",
       "      <td>21.1</td>\n",
       "    </tr>\n",
       "    <tr>\n",
       "      <th>4</th>\n",
       "      <td>3.69311</td>\n",
       "      <td>0.0</td>\n",
       "      <td>18.10</td>\n",
       "      <td>0.0</td>\n",
       "      <td>0.713</td>\n",
       "      <td>6.376</td>\n",
       "      <td>88.4</td>\n",
       "      <td>2.5671</td>\n",
       "      <td>24.0</td>\n",
       "      <td>666.0</td>\n",
       "      <td>20.2</td>\n",
       "      <td>391.43</td>\n",
       "      <td>14.65</td>\n",
       "      <td>17.7</td>\n",
       "    </tr>\n",
       "    <tr>\n",
       "      <th>...</th>\n",
       "      <td>...</td>\n",
       "      <td>...</td>\n",
       "      <td>...</td>\n",
       "      <td>...</td>\n",
       "      <td>...</td>\n",
       "      <td>...</td>\n",
       "      <td>...</td>\n",
       "      <td>...</td>\n",
       "      <td>...</td>\n",
       "      <td>...</td>\n",
       "      <td>...</td>\n",
       "      <td>...</td>\n",
       "      <td>...</td>\n",
       "      <td>...</td>\n",
       "    </tr>\n",
       "    <tr>\n",
       "      <th>501</th>\n",
       "      <td>3.47428</td>\n",
       "      <td>0.0</td>\n",
       "      <td>18.10</td>\n",
       "      <td>1.0</td>\n",
       "      <td>0.718</td>\n",
       "      <td>8.780</td>\n",
       "      <td>82.9</td>\n",
       "      <td>1.9047</td>\n",
       "      <td>24.0</td>\n",
       "      <td>666.0</td>\n",
       "      <td>20.2</td>\n",
       "      <td>354.55</td>\n",
       "      <td>5.29</td>\n",
       "      <td>21.9</td>\n",
       "    </tr>\n",
       "    <tr>\n",
       "      <th>502</th>\n",
       "      <td>0.07896</td>\n",
       "      <td>0.0</td>\n",
       "      <td>12.83</td>\n",
       "      <td>0.0</td>\n",
       "      <td>0.437</td>\n",
       "      <td>6.273</td>\n",
       "      <td>6.0</td>\n",
       "      <td>4.2515</td>\n",
       "      <td>5.0</td>\n",
       "      <td>398.0</td>\n",
       "      <td>18.7</td>\n",
       "      <td>394.92</td>\n",
       "      <td>6.78</td>\n",
       "      <td>24.1</td>\n",
       "    </tr>\n",
       "    <tr>\n",
       "      <th>503</th>\n",
       "      <td>1.83377</td>\n",
       "      <td>0.0</td>\n",
       "      <td>19.58</td>\n",
       "      <td>1.0</td>\n",
       "      <td>0.605</td>\n",
       "      <td>7.802</td>\n",
       "      <td>98.2</td>\n",
       "      <td>2.0407</td>\n",
       "      <td>5.0</td>\n",
       "      <td>403.0</td>\n",
       "      <td>14.7</td>\n",
       "      <td>389.61</td>\n",
       "      <td>1.92</td>\n",
       "      <td>50.0</td>\n",
       "    </tr>\n",
       "    <tr>\n",
       "      <th>504</th>\n",
       "      <td>0.35809</td>\n",
       "      <td>0.0</td>\n",
       "      <td>6.20</td>\n",
       "      <td>1.0</td>\n",
       "      <td>0.507</td>\n",
       "      <td>6.951</td>\n",
       "      <td>88.5</td>\n",
       "      <td>2.8617</td>\n",
       "      <td>8.0</td>\n",
       "      <td>307.0</td>\n",
       "      <td>17.4</td>\n",
       "      <td>391.70</td>\n",
       "      <td>9.71</td>\n",
       "      <td>26.7</td>\n",
       "    </tr>\n",
       "    <tr>\n",
       "      <th>505</th>\n",
       "      <td>2.92400</td>\n",
       "      <td>0.0</td>\n",
       "      <td>19.58</td>\n",
       "      <td>0.0</td>\n",
       "      <td>0.605</td>\n",
       "      <td>6.101</td>\n",
       "      <td>93.0</td>\n",
       "      <td>2.2834</td>\n",
       "      <td>5.0</td>\n",
       "      <td>403.0</td>\n",
       "      <td>14.7</td>\n",
       "      <td>240.16</td>\n",
       "      <td>9.81</td>\n",
       "      <td>25.0</td>\n",
       "    </tr>\n",
       "  </tbody>\n",
       "</table>\n",
       "<p>506 rows × 14 columns</p>\n",
       "</div>"
      ],
      "text/plain": [
       "        CRIM    ZN  INDUS  CHAS    NOX     RM    AGE     DIS   RAD    TAX  \\\n",
       "0    1.23247   0.0   8.14   0.0  0.538  6.142   91.7  3.9769   4.0  307.0   \n",
       "1    0.02177  82.5   2.03   0.0  0.415  7.610   15.7  6.2700   2.0  348.0   \n",
       "2    4.89822   0.0  18.10   0.0  0.631  4.970  100.0  1.3325  24.0  666.0   \n",
       "3    0.03961   0.0   5.19   0.0  0.515  6.037   34.5  5.9853   5.0  224.0   \n",
       "4    3.69311   0.0  18.10   0.0  0.713  6.376   88.4  2.5671  24.0  666.0   \n",
       "..       ...   ...    ...   ...    ...    ...    ...     ...   ...    ...   \n",
       "501  3.47428   0.0  18.10   1.0  0.718  8.780   82.9  1.9047  24.0  666.0   \n",
       "502  0.07896   0.0  12.83   0.0  0.437  6.273    6.0  4.2515   5.0  398.0   \n",
       "503  1.83377   0.0  19.58   1.0  0.605  7.802   98.2  2.0407   5.0  403.0   \n",
       "504  0.35809   0.0   6.20   1.0  0.507  6.951   88.5  2.8617   8.0  307.0   \n",
       "505  2.92400   0.0  19.58   0.0  0.605  6.101   93.0  2.2834   5.0  403.0   \n",
       "\n",
       "     PTRATIO       B  LSTAT  MEDV  \n",
       "0       21.0  396.90  18.72  15.2  \n",
       "1       14.7  395.38   3.11  42.3  \n",
       "2       20.2  375.52   3.26  50.0  \n",
       "3       20.2  396.90   8.01  21.1  \n",
       "4       20.2  391.43  14.65  17.7  \n",
       "..       ...     ...    ...   ...  \n",
       "501     20.2  354.55   5.29  21.9  \n",
       "502     18.7  394.92   6.78  24.1  \n",
       "503     14.7  389.61   1.92  50.0  \n",
       "504     17.4  391.70   9.71  26.7  \n",
       "505     14.7  240.16   9.81  25.0  \n",
       "\n",
       "[506 rows x 14 columns]"
      ]
     },
     "execution_count": 2,
     "metadata": {},
     "output_type": "execute_result"
    }
   ],
   "source": [
    "data = pd.read_csv(\"Boston.csv\")\n",
    "data"
   ]
  },
  {
   "cell_type": "code",
   "execution_count": 3,
   "id": "8ffef029",
   "metadata": {},
   "outputs": [
    {
     "name": "stdout",
     "output_type": "stream",
     "text": [
      "<class 'pandas.core.frame.DataFrame'>\n",
      "RangeIndex: 506 entries, 0 to 505\n",
      "Data columns (total 14 columns):\n",
      " #   Column   Non-Null Count  Dtype  \n",
      "---  ------   --------------  -----  \n",
      " 0   CRIM     506 non-null    float64\n",
      " 1   ZN       506 non-null    float64\n",
      " 2   INDUS    506 non-null    float64\n",
      " 3   CHAS     506 non-null    float64\n",
      " 4   NOX      506 non-null    float64\n",
      " 5   RM       506 non-null    float64\n",
      " 6   AGE      506 non-null    float64\n",
      " 7   DIS      506 non-null    float64\n",
      " 8   RAD      506 non-null    float64\n",
      " 9   TAX      506 non-null    float64\n",
      " 10  PTRATIO  506 non-null    float64\n",
      " 11  B        506 non-null    float64\n",
      " 12  LSTAT    506 non-null    float64\n",
      " 13  MEDV     506 non-null    float64\n",
      "dtypes: float64(14)\n",
      "memory usage: 55.5 KB\n"
     ]
    }
   ],
   "source": [
    "data.info()"
   ]
  },
  {
   "cell_type": "code",
   "execution_count": 4,
   "id": "5d1be0c4",
   "metadata": {},
   "outputs": [
    {
     "data": {
      "text/plain": [
       "Index(['CRIM', 'ZN', 'INDUS', 'CHAS', 'NOX', 'RM', 'AGE', 'DIS', 'RAD', 'TAX',\n",
       "       'PTRATIO', 'B', 'LSTAT', 'MEDV'],\n",
       "      dtype='object')"
      ]
     },
     "execution_count": 4,
     "metadata": {},
     "output_type": "execute_result"
    }
   ],
   "source": [
    "columns = data.columns\n",
    "columns"
   ]
  },
  {
   "cell_type": "code",
   "execution_count": 5,
   "id": "ed4c08a9",
   "metadata": {},
   "outputs": [],
   "source": [
    "X = data.drop(columns=[\"MEDV\"]).to_numpy()\n",
    "Y = data.MEDV.to_numpy()"
   ]
  },
  {
   "cell_type": "code",
   "execution_count": 6,
   "id": "c69613f8",
   "metadata": {},
   "outputs": [],
   "source": [
    "scale = StandardScaler()\n",
    "X_scale,Y_scale = scale.fit(X,Y)"
   ]
  },
  {
   "cell_type": "code",
   "execution_count": 7,
   "id": "354e93b6",
   "metadata": {},
   "outputs": [
    {
     "data": {
      "text/plain": [
       "(506, 13)"
      ]
     },
     "execution_count": 7,
     "metadata": {},
     "output_type": "execute_result"
    }
   ],
   "source": [
    "X_scale.shape"
   ]
  },
  {
   "cell_type": "code",
   "execution_count": 8,
   "id": "e8b3d814",
   "metadata": {},
   "outputs": [
    {
     "data": {
      "text/plain": [
       "(506,)"
      ]
     },
     "execution_count": 8,
     "metadata": {},
     "output_type": "execute_result"
    }
   ],
   "source": [
    "Y_scale.shape"
   ]
  },
  {
   "cell_type": "code",
   "execution_count": 9,
   "id": "02ca7d9e",
   "metadata": {},
   "outputs": [],
   "source": [
    "x_train = X_scale[:400]\n",
    "x_test = X_scale[400:480]\n",
    "\n",
    "y_train = Y_scale[:400]\n",
    "y_test = Y_scale[400:480]"
   ]
  },
  {
   "cell_type": "code",
   "execution_count": 10,
   "id": "ed95b090",
   "metadata": {},
   "outputs": [],
   "source": [
    "model = keras.Sequential([\n",
    "        layers.Dense(200,activation='relu'),\n",
    "        layers.Dropout(0.1),\n",
    "        layers.Dense(100,activation='relu'),\n",
    "        layers.Dropout(0.1),\n",
    "        layers.Dense(10),\n",
    "        layers.Dense(1),\n",
    "    ])"
   ]
  },
  {
   "cell_type": "code",
   "execution_count": 11,
   "id": "c64500e1",
   "metadata": {},
   "outputs": [],
   "source": [
    "model.compile(optimizer = keras.optimizers.SGD(learning_rate=0.01),\n",
    "             loss = keras.losses.MeanSquaredError())"
   ]
  },
  {
   "cell_type": "code",
   "execution_count": 12,
   "id": "ba6a80b8",
   "metadata": {},
   "outputs": [
    {
     "name": "stdout",
     "output_type": "stream",
     "text": [
      "Epoch 1/40\n",
      "400/400 [==============================] - 1s 2ms/step - loss: 0.3359\n",
      "Epoch 2/40\n",
      "400/400 [==============================] - 1s 2ms/step - loss: 0.1850\n",
      "Epoch 3/40\n",
      "400/400 [==============================] - 1s 2ms/step - loss: 0.1582\n",
      "Epoch 4/40\n",
      "400/400 [==============================] - 1s 2ms/step - loss: 0.1742\n",
      "Epoch 5/40\n",
      "400/400 [==============================] - 1s 2ms/step - loss: 0.1551\n",
      "Epoch 6/40\n",
      "400/400 [==============================] - 1s 1ms/step - loss: 0.1424\n",
      "Epoch 7/40\n",
      "400/400 [==============================] - 1s 1ms/step - loss: 0.1645\n",
      "Epoch 8/40\n",
      "400/400 [==============================] - 1s 2ms/step - loss: 0.1276\n",
      "Epoch 9/40\n",
      "400/400 [==============================] - 1s 2ms/step - loss: 0.1128\n",
      "Epoch 10/40\n",
      "400/400 [==============================] - 1s 2ms/step - loss: 0.1115\n",
      "Epoch 11/40\n",
      "400/400 [==============================] - 1s 2ms/step - loss: 0.0894\n",
      "Epoch 12/40\n",
      "400/400 [==============================] - 1s 2ms/step - loss: 0.1067\n",
      "Epoch 13/40\n",
      "400/400 [==============================] - 1s 2ms/step - loss: 0.1068\n",
      "Epoch 14/40\n",
      "400/400 [==============================] - 1s 2ms/step - loss: 0.1166\n",
      "Epoch 15/40\n",
      "400/400 [==============================] - 1s 2ms/step - loss: 0.1108\n",
      "Epoch 16/40\n",
      "400/400 [==============================] - 1s 1ms/step - loss: 0.0984\n",
      "Epoch 17/40\n",
      "400/400 [==============================] - 1s 2ms/step - loss: 0.0920\n",
      "Epoch 18/40\n",
      "400/400 [==============================] - 1s 1ms/step - loss: 0.1002\n",
      "Epoch 19/40\n",
      "400/400 [==============================] - 1s 1ms/step - loss: 0.0916\n",
      "Epoch 20/40\n",
      "400/400 [==============================] - 1s 2ms/step - loss: 0.0865\n",
      "Epoch 21/40\n",
      "400/400 [==============================] - 1s 2ms/step - loss: 0.0901\n",
      "Epoch 22/40\n",
      "400/400 [==============================] - 1s 2ms/step - loss: 0.0732\n",
      "Epoch 23/40\n",
      "400/400 [==============================] - 1s 2ms/step - loss: 0.0690\n",
      "Epoch 24/40\n",
      "400/400 [==============================] - 1s 2ms/step - loss: 0.0857\n",
      "Epoch 25/40\n",
      "400/400 [==============================] - 1s 2ms/step - loss: 0.0799\n",
      "Epoch 26/40\n",
      "400/400 [==============================] - 1s 1ms/step - loss: 0.0820\n",
      "Epoch 27/40\n",
      "400/400 [==============================] - 1s 2ms/step - loss: 0.0775\n",
      "Epoch 28/40\n",
      "400/400 [==============================] - 1s 2ms/step - loss: 0.0812\n",
      "Epoch 29/40\n",
      "400/400 [==============================] - 1s 2ms/step - loss: 0.0843\n",
      "Epoch 30/40\n",
      "400/400 [==============================] - 1s 1ms/step - loss: 0.0756\n",
      "Epoch 31/40\n",
      "400/400 [==============================] - 1s 1ms/step - loss: 0.0805\n",
      "Epoch 32/40\n",
      "400/400 [==============================] - 1s 2ms/step - loss: 0.0782\n",
      "Epoch 33/40\n",
      "400/400 [==============================] - 1s 1ms/step - loss: 0.0683\n",
      "Epoch 34/40\n",
      "400/400 [==============================] - 1s 2ms/step - loss: 0.0758\n",
      "Epoch 35/40\n",
      "400/400 [==============================] - 1s 2ms/step - loss: 0.0669\n",
      "Epoch 36/40\n",
      "400/400 [==============================] - 1s 2ms/step - loss: 0.0889\n",
      "Epoch 37/40\n",
      "400/400 [==============================] - 1s 1ms/step - loss: 0.0666\n",
      "Epoch 38/40\n",
      "400/400 [==============================] - 1s 2ms/step - loss: 0.0715\n",
      "Epoch 39/40\n",
      "400/400 [==============================] - 1s 2ms/step - loss: 0.0657\n",
      "Epoch 40/40\n",
      "400/400 [==============================] - 1s 2ms/step - loss: 0.0737\n"
     ]
    },
    {
     "data": {
      "text/plain": [
       "<keras.callbacks.History at 0x18da5ba5bb0>"
      ]
     },
     "execution_count": 12,
     "metadata": {},
     "output_type": "execute_result"
    }
   ],
   "source": [
    "model.fit(x_train,y_train,epochs=40,batch_size=1)"
   ]
  },
  {
   "cell_type": "code",
   "execution_count": 13,
   "id": "60b8127b",
   "metadata": {},
   "outputs": [
    {
     "name": "stdout",
     "output_type": "stream",
     "text": [
      "3/3 [==============================] - 0s 6ms/step - loss: 0.1038\n"
     ]
    },
    {
     "data": {
      "text/plain": [
       "0.10379934310913086"
      ]
     },
     "execution_count": 13,
     "metadata": {},
     "output_type": "execute_result"
    }
   ],
   "source": [
    "model.evaluate(x_test, y_test)"
   ]
  },
  {
   "cell_type": "code",
   "execution_count": 14,
   "id": "5a83a58d",
   "metadata": {},
   "outputs": [],
   "source": [
    "parameters = model.get_weights()"
   ]
  },
  {
   "cell_type": "code",
   "execution_count": 15,
   "id": "d94054b3",
   "metadata": {},
   "outputs": [],
   "source": [
    "model.save(\"model.h5\")"
   ]
  }
 ],
 "metadata": {
  "kernelspec": {
   "display_name": "Python 3 (ipykernel)",
   "language": "python",
   "name": "python3"
  },
  "language_info": {
   "codemirror_mode": {
    "name": "ipython",
    "version": 3
   },
   "file_extension": ".py",
   "mimetype": "text/x-python",
   "name": "python",
   "nbconvert_exporter": "python",
   "pygments_lexer": "ipython3",
   "version": "3.8.10"
  }
 },
 "nbformat": 4,
 "nbformat_minor": 5
}
